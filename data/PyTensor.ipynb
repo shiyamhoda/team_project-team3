{
 "cells": [
  {
   "cell_type": "code",
   "execution_count": 5,
   "metadata": {},
   "outputs": [],
   "source": [
    "import pandas as pd\n",
    "import numpy as np\n",
    "#import seaborn as sns\n",
    "import matplotlib.pyplot as plt\n",
    "import urllib\n",
    "from pathlib import Path\n",
    "import os\n",
    "import urllib\n",
    "#import statsmodels.api as sm\n",
    "from sklearn.linear_model import LinearRegression\n",
    "from sklearn.preprocessing import StandardScaler\n",
    "from sklearn.preprocessing import MinMaxScaler\n",
    "from sklearn.model_selection import train_test_split\n",
    "from sklearn.neighbors import KNeighborsRegressor"
   ]
  },
  {
   "cell_type": "code",
   "execution_count": 6,
   "metadata": {},
   "outputs": [
    {
     "name": "stderr",
     "output_type": "stream",
     "text": [
      "C:\\Users\\shiya\\AppData\\Local\\Temp\\ipykernel_23380\\3145283759.py:3: DtypeWarning: Columns (26) have mixed types. Specify dtype option on import or set low_memory=False.\n",
      "  pd_cs_class = pd.read_csv(file_path_cs_class)\n"
     ]
    }
   ],
   "source": [
    "file_path_cs_class =  'raw/train.csv' \n",
    "\n",
    "pd_cs_class = pd.read_csv(file_path_cs_class)\n",
    "\n",
    "#pd_cs_class"
   ]
  },
  {
   "cell_type": "code",
   "execution_count": null,
   "metadata": {},
   "outputs": [],
   "source": [
    "pd_cs_class.describe()\n",
    "pd_cs_class.head(10)"
   ]
  },
  {
   "cell_type": "code",
   "execution_count": 7,
   "metadata": {},
   "outputs": [],
   "source": [
    "features = ['Monthly_Inhand_Salary', 'Num_Bank_Accounts', 'Num_Credit_Card', 'Interest_Rate', 'Delay_from_due_date', 'Num_Credit_Inquiries', 'Credit_Utilization_Ratio', 'Total_EMI_per_month' ]\n",
    "\n",
    "scaler = MinMaxScaler()\n",
    "pd_cs_class[features] = scaler.fit_transform(pd_cs_class[features])"
   ]
  },
  {
   "cell_type": "code",
   "execution_count": 8,
   "metadata": {},
   "outputs": [],
   "source": [
    "df_X = pd_cs_class[features]\n",
    "#df_X"
   ]
  },
  {
   "cell_type": "code",
   "execution_count": 9,
   "metadata": {},
   "outputs": [],
   "source": [
    "df_y = pd_cs_class['Credit_Score']\n",
    "cs_mapping = {\n",
    "    'Good': 3,\n",
    "    'Standard':2,\n",
    "    'Poor':1\n",
    "}\n",
    "df_y = df_y.map(cs_mapping)\n",
    "#df_y"
   ]
  },
  {
   "cell_type": "code",
   "execution_count": 10,
   "metadata": {},
   "outputs": [],
   "source": [
    "x_train, x_test, y_train, y_test = train_test_split(df_X,df_y,test_size=0.3,random_state=42)"
   ]
  },
  {
   "cell_type": "code",
   "execution_count": 11,
   "metadata": {},
   "outputs": [
    {
     "name": "stdout",
     "output_type": "stream",
     "text": [
      "Libraries imported.\n",
      "Keras version: 2.10.0\n",
      "TensorFlow version: 2.10.0\n"
     ]
    }
   ],
   "source": [
    "import tensorflow\n",
    "from tensorflow import keras\n",
    "from tensorflow.keras import models\n",
    "from tensorflow.keras.models import Sequential\n",
    "from tensorflow.keras.layers import Dense\n",
    "from tensorflow.keras import utils\n",
    "from tensorflow.keras import optimizers\n",
    "\n",
    "# Set random seed for reproducability\n",
    "tensorflow.random.set_seed(0)\n",
    "\n",
    "print(\"Libraries imported.\")\n",
    "print('Keras version:',keras.__version__)\n",
    "print('TensorFlow version:',tensorflow.__version__)"
   ]
  },
  {
   "cell_type": "code",
   "execution_count": 12,
   "metadata": {},
   "outputs": [
    {
     "name": "stdout",
     "output_type": "stream",
     "text": [
      "Ready...\n"
     ]
    }
   ],
   "source": [
    "# Set data types for float features\n",
    "x_train = x_train.astype('float32')\n",
    "x_test = x_test.astype('float32')\n",
    "\n",
    "# Set data types for categorical labels\n",
    "y_train = utils.to_categorical(y_train)\n",
    "y_test = utils.to_categorical(y_test)\n",
    "print('Ready...')"
   ]
  },
  {
   "cell_type": "code",
   "execution_count": 17,
   "metadata": {},
   "outputs": [
    {
     "name": "stdout",
     "output_type": "stream",
     "text": [
      "Model: \"sequential_2\"\n",
      "_________________________________________________________________\n",
      " Layer (type)                Output Shape              Param #   \n",
      "=================================================================\n",
      " dense_6 (Dense)             (None, 10)                90        \n",
      "                                                                 \n",
      " dense_7 (Dense)             (None, 10)                110       \n",
      "                                                                 \n",
      " dense_8 (Dense)             (None, 4)                 44        \n",
      "                                                                 \n",
      "=================================================================\n",
      "Total params: 244\n",
      "Trainable params: 244\n",
      "Non-trainable params: 0\n",
      "_________________________________________________________________\n",
      "None\n"
     ]
    }
   ],
   "source": [
    "# Define a classifier network\n",
    "hl = 10 # Number of hidden layer nodes\n",
    "\n",
    "model = Sequential()\n",
    "model.add(Dense(hl, input_dim=len(features), activation='relu'))\n",
    "model.add(Dense(hl, input_dim=hl, activation='relu'))\n",
    "model.add(Dense(4, input_dim=hl, activation='softmax'))\n",
    "\n",
    "print(model.summary())"
   ]
  },
  {
   "cell_type": "code",
   "execution_count": 18,
   "metadata": {},
   "outputs": [
    {
     "name": "stdout",
     "output_type": "stream",
     "text": [
      "Epoch 1/50\n"
     ]
    },
    {
     "name": "stderr",
     "output_type": "stream",
     "text": [
      "c:\\Users\\shiya\\miniconda3\\envs\\proj2_ml_env\\lib\\site-packages\\keras\\optimizers\\optimizer_v2\\adam.py:114: UserWarning: The `lr` argument is deprecated, use `learning_rate` instead.\n",
      "  super().__init__(name, **kwargs)\n"
     ]
    },
    {
     "name": "stdout",
     "output_type": "stream",
     "text": [
      "7000/7000 [==============================] - 30s 4ms/step - loss: 1.0182 - accuracy: 0.5327 - val_loss: 1.0036 - val_accuracy: 0.5291\n",
      "Epoch 2/50\n",
      "7000/7000 [==============================] - 41s 6ms/step - loss: 1.0023 - accuracy: 0.5329 - val_loss: 1.0034 - val_accuracy: 0.5291\n",
      "Epoch 3/50\n",
      "7000/7000 [==============================] - 39s 6ms/step - loss: 1.0020 - accuracy: 0.5329 - val_loss: 1.0036 - val_accuracy: 0.5291\n",
      "Epoch 4/50\n",
      "7000/7000 [==============================] - 42s 6ms/step - loss: 1.0022 - accuracy: 0.5329 - val_loss: 1.0040 - val_accuracy: 0.5291\n",
      "Epoch 5/50\n",
      "7000/7000 [==============================] - 40s 6ms/step - loss: 1.0022 - accuracy: 0.5329 - val_loss: 1.0035 - val_accuracy: 0.5291\n",
      "Epoch 6/50\n",
      "7000/7000 [==============================] - 39s 6ms/step - loss: 1.0021 - accuracy: 0.5329 - val_loss: 1.0036 - val_accuracy: 0.5291\n",
      "Epoch 7/50\n",
      "7000/7000 [==============================] - 39s 6ms/step - loss: 1.0022 - accuracy: 0.5329 - val_loss: 1.0037 - val_accuracy: 0.5291\n",
      "Epoch 8/50\n",
      "7000/7000 [==============================] - 39s 6ms/step - loss: 1.0021 - accuracy: 0.5329 - val_loss: 1.0036 - val_accuracy: 0.5291\n",
      "Epoch 9/50\n",
      "7000/7000 [==============================] - 46s 7ms/step - loss: 1.0021 - accuracy: 0.5329 - val_loss: 1.0037 - val_accuracy: 0.5291\n",
      "Epoch 10/50\n",
      "7000/7000 [==============================] - 40s 6ms/step - loss: 1.0022 - accuracy: 0.5329 - val_loss: 1.0039 - val_accuracy: 0.5291\n",
      "Epoch 11/50\n",
      "7000/7000 [==============================] - 41s 6ms/step - loss: 1.0021 - accuracy: 0.5329 - val_loss: 1.0035 - val_accuracy: 0.5291\n",
      "Epoch 12/50\n",
      "7000/7000 [==============================] - 40s 6ms/step - loss: 1.0020 - accuracy: 0.5329 - val_loss: 1.0034 - val_accuracy: 0.5291\n",
      "Epoch 13/50\n",
      "7000/7000 [==============================] - 38s 5ms/step - loss: 1.0021 - accuracy: 0.5329 - val_loss: 1.0034 - val_accuracy: 0.5291\n",
      "Epoch 14/50\n",
      "7000/7000 [==============================] - 38s 5ms/step - loss: 1.0020 - accuracy: 0.5329 - val_loss: 1.0037 - val_accuracy: 0.5291\n",
      "Epoch 15/50\n",
      "7000/7000 [==============================] - 40s 6ms/step - loss: 1.0021 - accuracy: 0.5329 - val_loss: 1.0035 - val_accuracy: 0.5291\n",
      "Epoch 16/50\n",
      "7000/7000 [==============================] - 39s 6ms/step - loss: 1.0021 - accuracy: 0.5329 - val_loss: 1.0037 - val_accuracy: 0.5291\n",
      "Epoch 17/50\n",
      "7000/7000 [==============================] - 40s 6ms/step - loss: 1.0021 - accuracy: 0.5329 - val_loss: 1.0035 - val_accuracy: 0.5291\n",
      "Epoch 18/50\n",
      "7000/7000 [==============================] - 41s 6ms/step - loss: 1.0020 - accuracy: 0.5329 - val_loss: 1.0042 - val_accuracy: 0.5291\n",
      "Epoch 19/50\n",
      "7000/7000 [==============================] - 43s 6ms/step - loss: 1.0020 - accuracy: 0.5329 - val_loss: 1.0040 - val_accuracy: 0.5291\n",
      "Epoch 20/50\n",
      "7000/7000 [==============================] - 41s 6ms/step - loss: 1.0020 - accuracy: 0.5329 - val_loss: 1.0036 - val_accuracy: 0.5291\n",
      "Epoch 21/50\n",
      "7000/7000 [==============================] - 37s 5ms/step - loss: 1.0020 - accuracy: 0.5329 - val_loss: 1.0036 - val_accuracy: 0.5291\n",
      "Epoch 22/50\n",
      "7000/7000 [==============================] - 37s 5ms/step - loss: 1.0021 - accuracy: 0.5329 - val_loss: 1.0036 - val_accuracy: 0.5291\n",
      "Epoch 23/50\n",
      "7000/7000 [==============================] - 60s 9ms/step - loss: 1.0020 - accuracy: 0.5329 - val_loss: 1.0037 - val_accuracy: 0.5291\n",
      "Epoch 24/50\n",
      "7000/7000 [==============================] - 47s 7ms/step - loss: 1.0021 - accuracy: 0.5329 - val_loss: 1.0038 - val_accuracy: 0.5291\n",
      "Epoch 25/50\n",
      "7000/7000 [==============================] - 39s 6ms/step - loss: 1.0020 - accuracy: 0.5329 - val_loss: 1.0036 - val_accuracy: 0.5291\n",
      "Epoch 26/50\n",
      "7000/7000 [==============================] - 40s 6ms/step - loss: 1.0021 - accuracy: 0.5329 - val_loss: 1.0038 - val_accuracy: 0.5291\n",
      "Epoch 27/50\n",
      "7000/7000 [==============================] - 40s 6ms/step - loss: 1.0020 - accuracy: 0.5329 - val_loss: 1.0035 - val_accuracy: 0.5291\n",
      "Epoch 28/50\n",
      "7000/7000 [==============================] - 287s 41ms/step - loss: 1.0020 - accuracy: 0.5329 - val_loss: 1.0041 - val_accuracy: 0.5291\n",
      "Epoch 29/50\n",
      "7000/7000 [==============================] - 39s 6ms/step - loss: 1.0021 - accuracy: 0.5329 - val_loss: 1.0040 - val_accuracy: 0.5291\n",
      "Epoch 30/50\n",
      "7000/7000 [==============================] - 42s 6ms/step - loss: 1.0021 - accuracy: 0.5329 - val_loss: 1.0035 - val_accuracy: 0.5291\n",
      "Epoch 31/50\n",
      "7000/7000 [==============================] - 37s 5ms/step - loss: 1.0020 - accuracy: 0.5329 - val_loss: 1.0034 - val_accuracy: 0.5291\n",
      "Epoch 32/50\n",
      "7000/7000 [==============================] - 35s 5ms/step - loss: 1.0020 - accuracy: 0.5329 - val_loss: 1.0036 - val_accuracy: 0.5291\n",
      "Epoch 33/50\n",
      "7000/7000 [==============================] - 37s 5ms/step - loss: 1.0020 - accuracy: 0.5329 - val_loss: 1.0035 - val_accuracy: 0.5291\n",
      "Epoch 34/50\n",
      "7000/7000 [==============================] - 1864s 266ms/step - loss: 1.0020 - accuracy: 0.5329 - val_loss: 1.0035 - val_accuracy: 0.5291\n",
      "Epoch 35/50\n",
      "7000/7000 [==============================] - 45s 6ms/step - loss: 1.0020 - accuracy: 0.5329 - val_loss: 1.0036 - val_accuracy: 0.5291\n",
      "Epoch 36/50\n",
      "7000/7000 [==============================] - 57s 8ms/step - loss: 1.0020 - accuracy: 0.5329 - val_loss: 1.0034 - val_accuracy: 0.5291\n",
      "Epoch 37/50\n",
      "7000/7000 [==============================] - 35s 5ms/step - loss: 1.0020 - accuracy: 0.5329 - val_loss: 1.0035 - val_accuracy: 0.5291\n",
      "Epoch 38/50\n",
      "7000/7000 [==============================] - 35s 5ms/step - loss: 1.0020 - accuracy: 0.5329 - val_loss: 1.0036 - val_accuracy: 0.5291\n",
      "Epoch 39/50\n",
      "7000/7000 [==============================] - 36s 5ms/step - loss: 1.0019 - accuracy: 0.5329 - val_loss: 1.0038 - val_accuracy: 0.5291\n",
      "Epoch 40/50\n",
      "7000/7000 [==============================] - 38s 5ms/step - loss: 1.0020 - accuracy: 0.5329 - val_loss: 1.0040 - val_accuracy: 0.5291\n",
      "Epoch 41/50\n",
      "7000/7000 [==============================] - 2587s 370ms/step - loss: 1.0020 - accuracy: 0.5329 - val_loss: 1.0036 - val_accuracy: 0.5291\n",
      "Epoch 42/50\n",
      "7000/7000 [==============================] - 54s 8ms/step - loss: 1.0019 - accuracy: 0.5329 - val_loss: 1.0035 - val_accuracy: 0.5291\n",
      "Epoch 43/50\n",
      "7000/7000 [==============================] - 32s 5ms/step - loss: 1.0020 - accuracy: 0.5329 - val_loss: 1.0038 - val_accuracy: 0.5291\n",
      "Epoch 44/50\n",
      "7000/7000 [==============================] - 34s 5ms/step - loss: 1.0020 - accuracy: 0.5329 - val_loss: 1.0035 - val_accuracy: 0.5291\n",
      "Epoch 45/50\n",
      "7000/7000 [==============================] - 37s 5ms/step - loss: 1.0019 - accuracy: 0.5329 - val_loss: 1.0037 - val_accuracy: 0.5291\n",
      "Epoch 46/50\n",
      "7000/7000 [==============================] - 34s 5ms/step - loss: 1.0020 - accuracy: 0.5329 - val_loss: 1.0036 - val_accuracy: 0.5291\n",
      "Epoch 47/50\n",
      "7000/7000 [==============================] - 412s 59ms/step - loss: 1.0019 - accuracy: 0.5329 - val_loss: 1.0035 - val_accuracy: 0.5291\n",
      "Epoch 48/50\n",
      "7000/7000 [==============================] - 29s 4ms/step - loss: 1.0020 - accuracy: 0.5329 - val_loss: 1.0039 - val_accuracy: 0.5291\n",
      "Epoch 49/50\n",
      "7000/7000 [==============================] - 36s 5ms/step - loss: 1.0020 - accuracy: 0.5329 - val_loss: 1.0034 - val_accuracy: 0.5291\n",
      "Epoch 50/50\n",
      "7000/7000 [==============================] - 34s 5ms/step - loss: 1.0020 - accuracy: 0.5329 - val_loss: 1.0040 - val_accuracy: 0.5291\n"
     ]
    }
   ],
   "source": [
    "#hyper-parameters for optimizer\n",
    "learning_rate = 0.001\n",
    "opt = optimizers.Adam(lr=learning_rate)\n",
    "\n",
    "model.compile(loss='categorical_crossentropy',\n",
    "              optimizer=opt,\n",
    "              metrics=['accuracy'])\n",
    "\n",
    "# Train the model over 50 epochs using 10-observation batches and using the test holdout dataset for validation\n",
    "num_epochs = 50\n",
    "history = model.fit(x_train, y_train, epochs=num_epochs, batch_size=10, validation_data=(x_test, y_test))"
   ]
  },
  {
   "cell_type": "code",
   "execution_count": 19,
   "metadata": {},
   "outputs": [
    {
     "data": {
      "image/png": "[encoded data removed]",
      "text/plain": [
       "<Figure size 640x480 with 1 Axes>"
      ]
     },
     "metadata": {},
     "output_type": "display_data"
    }
   ],
   "source": [
    "%matplotlib inline\n",
    "from matplotlib import pyplot as plt\n",
    "\n",
    "epoch_nums = range(1,num_epochs+1)\n",
    "training_loss = history.history[\"loss\"]\n",
    "validation_loss = history.history[\"val_loss\"]\n",
    "plt.plot(epoch_nums, training_loss)\n",
    "plt.plot(epoch_nums, validation_loss)\n",
    "plt.xlabel('epoch')\n",
    "plt.ylabel('loss')\n",
    "plt.legend(['training', 'validation'], loc='upper right')\n",
    "plt.show()"
   ]
  },
  {
   "cell_type": "code",
   "execution_count": 20,
   "metadata": {},
   "outputs": [
    {
     "name": "stdout",
     "output_type": "stream",
     "text": [
      "------------\n",
      "Weights:\n",
      " [[        nan         nan         nan         nan         nan         nan\n",
      "          nan         nan         nan         nan]\n",
      " [ 0.13491541 -0.16775934 -0.10562814 -0.38003948  0.17421992  0.09719782\n",
      "   0.48436728 -0.07605386 -0.12074497 -0.4283532 ]\n",
      " [ 0.16834901 -0.07656169 -0.34920636  0.41365626  0.51698035  0.35604563\n",
      "   0.00367672 -0.25273636 -0.29777557  0.39334908]\n",
      " [ 0.12479511 -0.4246093  -0.04445906 -0.23714386 -0.09752101  0.18588361\n",
      "   0.4160193   0.51524234  0.40348318 -0.02811357]\n",
      " [-0.09145641 -0.13656478  0.2844822   0.38387474 -0.06983985  0.4581444\n",
      "   0.08023389  0.02824336  0.41038617  0.00633137]\n",
      " [        nan         nan         nan         nan         nan         nan\n",
      "          nan         nan         nan         nan]\n",
      " [ 0.4602307  -0.13979317  0.14658889 -0.04108911  0.45777345 -0.38974065\n",
      "   0.01109476 -0.37394732  0.4390268   0.55915153]\n",
      " [-0.53764    -0.05305082  0.4808959   0.46285188  0.26594043  0.22494808\n",
      "   0.39401174  0.16398823  0.14093058  0.12382798]] \n",
      "Biases:\n",
      " [-0.00600484  0.0060046   0.00600507 -0.00600382  0.00600512 -0.00600521\n",
      "  0.00600437  0.          0.00600529  0.00600152]\n",
      "------------\n",
      "Weights:\n",
      " [[ 0.480842   -0.3611514   0.02690943 -0.07275733  0.4040838   0.3865353\n",
      "   0.28434703 -0.4870406   0.3853196   0.19854179]\n",
      " [ 0.2090107   0.46398497 -0.26543742  0.23625469  0.4494727   0.42137307\n",
      "  -0.47416225  0.22745672 -0.23149878 -0.19157904]\n",
      " [-0.28643605 -0.22002462 -0.42617637 -0.24862492 -0.49626493 -0.41081956\n",
      "   0.15556562  0.01543645  0.41010463  0.06821161]\n",
      " [ 0.22906946 -0.25600833 -0.13933069  0.43558875 -0.06917872 -0.24739455\n",
      "  -0.2100266  -0.07452673 -0.2552164  -0.00493163]\n",
      " [-0.00519506 -0.4382385   0.2103708   0.06581634 -0.28487018 -0.24440831\n",
      "   0.4175822   0.13184208 -0.26953337 -0.0094223 ]\n",
      " [-0.5218615  -0.31476122 -0.3046967  -0.3039036   0.44933182 -0.33596218\n",
      "  -0.00128747  0.24797952  0.3765087  -0.5144679 ]\n",
      " [ 0.17486499 -0.3352911   0.38058218  0.23606437 -0.3496527   0.21835718\n",
      "   0.38872775  0.5400574  -0.26112056  0.40894145]\n",
      " [-0.28159127  0.12525707  0.4241374  -0.3698206  -0.2583572  -0.17153221\n",
      "  -0.13581687  0.24949068 -0.46727926 -0.17031226]\n",
      " [-0.0725638  -0.3368119   0.41767424 -0.456217   -0.52723384  0.51290405\n",
      "   0.48875883 -0.1254395  -0.15021655  0.29013696]\n",
      " [ 0.3673682   0.15202415 -0.28150064 -0.11169872 -0.39060876 -0.08079391\n",
      "  -0.21450454 -0.49887845 -0.28588277  0.2362937 ]] \n",
      "Biases:\n",
      " [-0.00600537  0.          0.24018699 -0.00629144 -0.0073652  -0.00600517\n",
      " -0.00274349 -0.00600433 -0.00600472  0.26417518]\n",
      "------------\n",
      "Weights:\n",
      " [[-1.22971938e-03  5.47157586e-01 -4.48628753e-01 -4.89716455e-02]\n",
      " [ 2.97807574e-01  4.98558760e-01 -3.93006593e-01 -1.54756308e-01]\n",
      " [-1.05018034e+01  4.91291851e-01  9.00634527e-01  2.21383899e-01]\n",
      " [-4.03195173e-01  4.56258804e-01 -5.14781713e-01  4.33422327e-01]\n",
      " [-5.22874296e-01 -5.45688987e-01 -5.66656291e-01 -3.26117367e-01]\n",
      " [ 3.45675975e-01  1.32345662e-01  2.21635308e-02  2.26610765e-01]\n",
      " [-1.14663925e+01  2.54385114e-01  2.31251657e-01  1.63813755e-01]\n",
      " [ 3.15108478e-01 -2.36766845e-01  1.02147400e-01  4.71340150e-01]\n",
      " [-9.99972448e-02 -3.45725894e-01  4.47289884e-01 -4.82721090e-01]\n",
      " [-9.67380524e+00 -4.96087410e-02  6.25618577e-01 -1.53245211e-01]] \n",
      "Biases:\n",
      " [-13.585072     0.11624297   0.50221294  -0.21529552]\n"
     ]
    }
   ],
   "source": [
    "for layer in model.layers:\n",
    "    weights = layer.get_weights()[0]\n",
    "    biases = layer.get_weights()[1]\n",
    "    print('------------\\nWeights:\\n',weights,'\\nBiases:\\n', biases)"
   ]
  },
  {
   "cell_type": "code",
   "execution_count": 23,
   "metadata": {},
   "outputs": [
    {
     "name": "stdout",
     "output_type": "stream",
     "text": [
      "938/938 [==============================] - 2s 2ms/step\n"
     ]
    },
    {
     "data": {
      "image/png": "[encoded data removed]",
      "text/plain": [
       "<Figure size 640x480 with 2 Axes>"
      ]
     },
     "metadata": {},
     "output_type": "display_data"
    }
   ],
   "source": [
    "\n",
    "import numpy as np\n",
    "from sklearn.metrics import confusion_matrix\n",
    "import matplotlib.pyplot as plt\n",
    "%matplotlib inline\n",
    "\n",
    "\n",
    "class_probabilities = model.predict(x_test)\n",
    "predictions = np.argmax(class_probabilities, axis=1)\n",
    "true_labels = np.argmax(y_test, axis=1)\n",
    "\n",
    "# Plot the confusion matrix\n",
    "cm = confusion_matrix(true_labels, predictions)\n",
    "plt.imshow(cm, interpolation=\"nearest\", cmap=plt.cm.Blues)\n",
    "plt.colorbar()\n",
    "tick_marks = np.arange(3)\n",
    "plt.xticks(tick_marks,  rotation=85)\n",
    "plt.yticks(tick_marks, )\n",
    "plt.xlabel(\"Predicted Score\")\n",
    "plt.ylabel(\"Actual Score\")\n",
    "plt.show()"
   ]
  }
 ],
 "metadata": {
  "kernelspec": {
   "display_name": "dsi_participant",
   "language": "python",
   "name": "python3"
  },
  "language_info": {
   "codemirror_mode": {
    "name": "ipython",
    "version": 3
   },
   "file_extension": ".py",
   "mimetype": "text/x-python",
   "name": "python",
   "nbconvert_exporter": "python",
   "pygments_lexer": "ipython3",
   "version": "3.10.13"
  }
 },
 "nbformat": 4,
 "nbformat_minor": 2
}
